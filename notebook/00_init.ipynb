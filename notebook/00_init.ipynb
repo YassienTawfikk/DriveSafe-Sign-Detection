{
 "cells": [
  {
   "metadata": {},
   "cell_type": "markdown",
   "source": "## Create Essential Directories",
   "id": "f16adec0f8519ffd"
  },
  {
   "cell_type": "code",
   "id": "initial_id",
   "metadata": {
    "collapsed": true,
    "ExecuteTime": {
     "end_time": "2025-07-31T09:39:42.916557Z",
     "start_time": "2025-07-31T09:39:42.912537Z"
    }
   },
   "source": [
    "from src.__00__paths import *\n",
    "\n",
    "for path in [data_dir, figures_dir, model_dir, docs_dir]:\n",
    "    path.mkdir(parents=True, exist_ok=True)"
   ],
   "outputs": [],
   "execution_count": 1
  }
 ],
 "metadata": {
  "kernelspec": {
   "display_name": "Python 3",
   "language": "python",
   "name": "python3"
  },
  "language_info": {
   "codemirror_mode": {
    "name": "ipython",
    "version": 2
   },
   "file_extension": ".py",
   "mimetype": "text/x-python",
   "name": "python",
   "nbconvert_exporter": "python",
   "pygments_lexer": "ipython2",
   "version": "2.7.6"
  }
 },
 "nbformat": 4,
 "nbformat_minor": 5
}

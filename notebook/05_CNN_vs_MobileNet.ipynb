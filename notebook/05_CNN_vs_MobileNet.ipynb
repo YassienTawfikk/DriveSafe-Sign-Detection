{
 "cells": [
  {
   "metadata": {},
   "cell_type": "markdown",
   "source": "# CNN vs MobileNetV2 Classifier Comparison",
   "id": "b204ccc55ddec2f5"
  },
  {
   "metadata": {},
   "cell_type": "markdown",
   "source": "## Imports and setup",
   "id": "5ce082c3170a3a03"
  },
  {
   "metadata": {
    "ExecuteTime": {
     "end_time": "2025-08-01T14:14:55.194696Z",
     "start_time": "2025-08-01T14:14:55.190060Z"
    }
   },
   "cell_type": "code",
   "source": [
    "import pandas as pd\n",
    "import matplotlib.pyplot as plt\n",
    "import seaborn as sns\n",
    "from pathlib import Path\n",
    "from src.__00__paths import docs_dir, figures_dir\n",
    "\n",
    "cnn_report_path = docs_dir / \"custom_CNN_classification_report.txt\"  # CNN report\n",
    "mobilenet_report_path = docs_dir / \"mobilenet_classification_report.txt\"  # MobileNet report"
   ],
   "id": "84999c8d0a06fd4d",
   "outputs": [],
   "execution_count": 9
  },
  {
   "metadata": {},
   "cell_type": "markdown",
   "source": "## Report Summary Method",
   "id": "a80d467a0a2885a1"
  },
  {
   "cell_type": "code",
   "id": "initial_id",
   "metadata": {
    "collapsed": true,
    "ExecuteTime": {
     "end_time": "2025-08-01T14:15:33.883715Z",
     "start_time": "2025-08-01T14:15:33.877816Z"
    }
   },
   "source": [
    "def parse_classification_report(file_path):\n",
    "    with open(file_path, \"r\") as f:\n",
    "        lines = f.readlines()\n",
    "\n",
    "    # Keep only the lines with class metrics\n",
    "    lines = [line.strip() for line in lines if line.strip() and not line.startswith(\"Test Accuracy\")]\n",
    "    class_lines = [line for line in lines if line[0].isdigit()]\n",
    "\n",
    "    rows = []\n",
    "    for line in class_lines:\n",
    "        parts = line.split()\n",
    "        if len(parts) >= 5:\n",
    "            class_id = int(parts[0])\n",
    "            precision, recall, f1, support = map(float, parts[1:5])\n",
    "            rows.append([class_id, precision, recall, f1, support])\n",
    "    return pd.DataFrame(rows, columns=[\"Class\", \"Precision\", \"Recall\", \"F1-Score\", \"Support\"])\n",
    "\n",
    "\n",
    "cnn_df = parse_classification_report(cnn_report_path)\n",
    "mobilenet_df = parse_classification_report(mobilenet_report_path)\n",
    "\n"
   ],
   "outputs": [],
   "execution_count": 10
  },
  {
   "metadata": {},
   "cell_type": "markdown",
   "source": "## Compare Between CNN and MobileNet",
   "id": "a50a0581813a12f0"
  },
  {
   "metadata": {
    "ExecuteTime": {
     "end_time": "2025-08-01T14:15:53.693752Z",
     "start_time": "2025-08-01T14:15:53.544215Z"
    }
   },
   "cell_type": "code",
   "source": [
    "comparison_df = pd.DataFrame({\n",
    "    \"Model\": [\"CNN\", \"MobileNet\"],\n",
    "    \"Macro Precision\": [cnn_df[\"Precision\"].mean(), mobilenet_df[\"Precision\"].mean()],\n",
    "    \"Macro Recall\": [cnn_df[\"Recall\"].mean(), mobilenet_df[\"Recall\"].mean()],\n",
    "    \"Macro F1-Score\": [cnn_df[\"F1-Score\"].mean(), mobilenet_df[\"F1-Score\"].mean()],\n",
    "})\n",
    "\n",
    "print(\"Macro-Averaged Metrics:\\n\")\n",
    "print(comparison_df.round(4))\n",
    "\n",
    "plt.figure(figsize=(10, 5))\n",
    "metrics = [\"Macro Precision\", \"Macro Recall\", \"Macro F1-Score\"]\n",
    "\n",
    "for i, metric in enumerate(metrics):\n",
    "    plt.bar(i - 0.15, comparison_df.iloc[0][metric], width=0.3, label=\"CNN\" if i == 0 else \"\", color=\"skyblue\")\n",
    "    plt.bar(i + 0.15, comparison_df.iloc[1][metric], width=0.3, label=\"MobileNet\" if i == 0 else \"\", color=\"orange\")\n",
    "\n",
    "plt.xticks(range(len(metrics)), metrics)\n",
    "plt.title(\"Macro-Averaged Evaluation Metrics: CNN vs MobileNetV2\")\n",
    "plt.ylabel(\"Score\")\n",
    "plt.legend()\n",
    "plt.grid(True, axis='y')\n",
    "plt.tight_layout()\n",
    "plt.savefig(figures_dir / \"comparison_CNN_MobileNet.png\", dpi=300)\n",
    "plt.show()"
   ],
   "id": "bae2b54d3cc0f63f",
   "outputs": [
    {
     "name": "stdout",
     "output_type": "stream",
     "text": [
      "Macro-Averaged Metrics:\n",
      "\n",
      "       Model  Macro Precision  Macro Recall  Macro F1-Score\n",
      "0        CNN           0.9498        0.9440          0.9430\n",
      "1  MobileNet           0.5433        0.4793          0.4816\n"
     ]
    },
    {
     "data": {
      "text/plain": [
       "<Figure size 1000x500 with 1 Axes>"
      ],
      "image/png": "[encoded data removed]"
     },
     "metadata": {},
     "output_type": "display_data"
    }
   ],
   "execution_count": 11
  }
 ],
 "metadata": {
  "kernelspec": {
   "display_name": "Python 3",
   "language": "python",
   "name": "python3"
  },
  "language_info": {
   "codemirror_mode": {
    "name": "ipython",
    "version": 2
   },
   "file_extension": ".py",
   "mimetype": "text/x-python",
   "name": "python",
   "nbconvert_exporter": "python",
   "pygments_lexer": "ipython2",
   "version": "2.7.6"
  }
 },
 "nbformat": 4,
 "nbformat_minor": 5
}

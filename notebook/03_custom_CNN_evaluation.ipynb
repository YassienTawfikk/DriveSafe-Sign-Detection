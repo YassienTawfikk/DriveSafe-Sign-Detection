{
 "cells": [
  {
   "metadata": {},
   "cell_type": "markdown",
   "source": "# Model Evaluation",
   "id": "1ec5a67ba9c9d463"
  },
  {
   "metadata": {},
   "cell_type": "markdown",
   "source": "## Import Libraries",
   "id": "d0b11cd8ba82fffc"
  },
  {
   "metadata": {
    "ExecuteTime": {
     "end_time": "2025-07-31T09:43:05.161137Z",
     "start_time": "2025-07-31T09:43:05.158758Z"
    }
   },
   "cell_type": "code",
   "source": [
    "from tensorflow.keras.models import load_model\n",
    "import pandas as pd\n",
    "from PIL import Image\n",
    "import numpy as np\n",
    "import cv2\n",
    "\n",
    "from sklearn.metrics import classification_report, confusion_matrix, accuracy_score\n",
    "import seaborn as sns\n",
    "import matplotlib.pyplot as plt\n",
    "\n",
    "from src import outputs_dir\n",
    "from src.__00__paths import model_dir, data_dir, docs_dir, figures_dir"
   ],
   "id": "12a5f04c8fd5af70",
   "outputs": [],
   "execution_count": 4
  },
  {
   "metadata": {},
   "cell_type": "markdown",
   "source": "## Load Model",
   "id": "e4d23838064af589"
  },
  {
   "cell_type": "code",
   "id": "initial_id",
   "metadata": {
    "collapsed": true,
    "ExecuteTime": {
     "end_time": "2025-07-31T09:43:05.321831Z",
     "start_time": "2025-07-31T09:43:05.171851Z"
    }
   },
   "source": "model = load_model(model_dir / \"custom_traffic_classifier.h5\")",
   "outputs": [
    {
     "name": "stderr",
     "output_type": "stream",
     "text": [
      "2025-07-31 12:43:05.177277: I metal_plugin/src/device/metal_device.cc:1154] Metal device set to: Apple M3\n",
      "2025-07-31 12:43:05.177313: I metal_plugin/src/device/metal_device.cc:296] systemMemory: 16.00 GB\n",
      "2025-07-31 12:43:05.177317: I metal_plugin/src/device/metal_device.cc:313] maxCacheSize: 5.33 GB\n",
      "WARNING: All log messages before absl::InitializeLog() is called are written to STDERR\n",
      "I0000 00:00:1753954985.177330 1627813 pluggable_device_factory.cc:305] Could not identify NUMA node of platform GPU ID 0, defaulting to 0. Your kernel may not have been built with NUMA support.\n",
      "I0000 00:00:1753954985.177350 1627813 pluggable_device_factory.cc:271] Created TensorFlow device (/job:localhost/replica:0/task:0/device:GPU:0 with 0 MB memory) -> physical PluggableDevice (device: 0, name: METAL, pci bus id: <undefined>)\n",
      "WARNING:absl:Compiled the loaded model, but the compiled metrics have yet to be built. `model.compile_metrics` will be empty until you train or evaluate the model.\n"
     ]
    }
   ],
   "execution_count": 5
  },
  {
   "metadata": {},
   "cell_type": "markdown",
   "source": "## Load and Prepare Datasets",
   "id": "cfa9670478016ee0"
  },
  {
   "metadata": {
    "ExecuteTime": {
     "end_time": "2025-07-31T09:43:05.367554Z",
     "start_time": "2025-07-31T09:43:05.332794Z"
    }
   },
   "cell_type": "code",
   "source": [
    "test_df = pd.read_csv(data_dir / \"Test.csv\")\n",
    "test_df.head()"
   ],
   "id": "db8c0a397d48854a",
   "outputs": [
    {
     "data": {
      "text/plain": [
       "   Width  Height  Roi.X1  Roi.Y1  Roi.X2  Roi.Y2  ClassId            Path\n",
       "0     53      54       6       5      48      49       16  Test/00000.png\n",
       "1     42      45       5       5      36      40        1  Test/00001.png\n",
       "2     48      52       6       6      43      47       38  Test/00002.png\n",
       "3     27      29       5       5      22      24       33  Test/00003.png\n",
       "4     60      57       5       5      55      52       11  Test/00004.png"
      ],
      "text/html": [
       "<div>\n",
       "<style scoped>\n",
       "    .dataframe tbody tr th:only-of-type {\n",
       "        vertical-align: middle;\n",
       "    }\n",
       "\n",
       "    .dataframe tbody tr th {\n",
       "        vertical-align: top;\n",
       "    }\n",
       "\n",
       "    .dataframe thead th {\n",
       "        text-align: right;\n",
       "    }\n",
       "</style>\n",
       "<table border=\"1\" class=\"dataframe\">\n",
       "  <thead>\n",
       "    <tr style=\"text-align: right;\">\n",
       "      <th></th>\n",
       "      <th>Width</th>\n",
       "      <th>Height</th>\n",
       "      <th>Roi.X1</th>\n",
       "      <th>Roi.Y1</th>\n",
       "      <th>Roi.X2</th>\n",
       "      <th>Roi.Y2</th>\n",
       "      <th>ClassId</th>\n",
       "      <th>Path</th>\n",
       "    </tr>\n",
       "  </thead>\n",
       "  <tbody>\n",
       "    <tr>\n",
       "      <th>0</th>\n",
       "      <td>53</td>\n",
       "      <td>54</td>\n",
       "      <td>6</td>\n",
       "      <td>5</td>\n",
       "      <td>48</td>\n",
       "      <td>49</td>\n",
       "      <td>16</td>\n",
       "      <td>Test/00000.png</td>\n",
       "    </tr>\n",
       "    <tr>\n",
       "      <th>1</th>\n",
       "      <td>42</td>\n",
       "      <td>45</td>\n",
       "      <td>5</td>\n",
       "      <td>5</td>\n",
       "      <td>36</td>\n",
       "      <td>40</td>\n",
       "      <td>1</td>\n",
       "      <td>Test/00001.png</td>\n",
       "    </tr>\n",
       "    <tr>\n",
       "      <th>2</th>\n",
       "      <td>48</td>\n",
       "      <td>52</td>\n",
       "      <td>6</td>\n",
       "      <td>6</td>\n",
       "      <td>43</td>\n",
       "      <td>47</td>\n",
       "      <td>38</td>\n",
       "      <td>Test/00002.png</td>\n",
       "    </tr>\n",
       "    <tr>\n",
       "      <th>3</th>\n",
       "      <td>27</td>\n",
       "      <td>29</td>\n",
       "      <td>5</td>\n",
       "      <td>5</td>\n",
       "      <td>22</td>\n",
       "      <td>24</td>\n",
       "      <td>33</td>\n",
       "      <td>Test/00003.png</td>\n",
       "    </tr>\n",
       "    <tr>\n",
       "      <th>4</th>\n",
       "      <td>60</td>\n",
       "      <td>57</td>\n",
       "      <td>5</td>\n",
       "      <td>5</td>\n",
       "      <td>55</td>\n",
       "      <td>52</td>\n",
       "      <td>11</td>\n",
       "      <td>Test/00004.png</td>\n",
       "    </tr>\n",
       "  </tbody>\n",
       "</table>\n",
       "</div>"
      ]
     },
     "execution_count": 6,
     "metadata": {},
     "output_type": "execute_result"
    }
   ],
   "execution_count": 6
  },
  {
   "metadata": {
    "ExecuteTime": {
     "end_time": "2025-07-31T09:43:08.945804Z",
     "start_time": "2025-07-31T09:43:05.402892Z"
    }
   },
   "cell_type": "code",
   "source": [
    "from PIL import Image\n",
    "import numpy as np\n",
    "\n",
    "test_images = []\n",
    "test_labels = []\n",
    "skipped_images = []\n",
    "\n",
    "for _, row in test_df.iterrows():\n",
    "    image_path = data_dir / row[\"Path\"]\n",
    "    try:\n",
    "        image = Image.open(image_path)\n",
    "        image = image.resize((30, 30))\n",
    "        test_images.append(np.array(image))\n",
    "        test_labels.append(row[\"ClassId\"])\n",
    "    except Exception as e:\n",
    "        skipped_images.append(image_path)\n",
    "        print(f\"Skipped corrupted image at {'/'.join(image_path.parts[-2:])}\")\n",
    "\n",
    "# Convert to NumPy arrays and normalize\n",
    "x_test = np.array(test_images)\n",
    "y_test = np.array(test_labels)"
   ],
   "id": "2cc039551090e0a9",
   "outputs": [
    {
     "name": "stdout",
     "output_type": "stream",
     "text": [
      "Skipped corrupted image at Test/00802.png\n"
     ]
    }
   ],
   "execution_count": 7
  },
  {
   "metadata": {},
   "cell_type": "markdown",
   "source": "## Predict Outputs",
   "id": "96ca9fc2141194ee"
  },
  {
   "metadata": {
    "ExecuteTime": {
     "end_time": "2025-07-31T09:43:11.168800Z",
     "start_time": "2025-07-31T09:43:08.968869Z"
    }
   },
   "cell_type": "code",
   "source": [
    "pred_probs = model.predict(x_test)\n",
    "y_pred = np.argmax(pred_probs, axis=1)"
   ],
   "id": "556e5d911cdc70ca",
   "outputs": [
    {
     "name": "stdout",
     "output_type": "stream",
     "text": [
      "\u001B[1m 39/395\u001B[0m \u001B[32m━\u001B[0m\u001B[37m━━━━━━━━━━━━━━━━━━━\u001B[0m \u001B[1m1s\u001B[0m 4ms/step"
     ]
    },
    {
     "name": "stderr",
     "output_type": "stream",
     "text": [
      "2025-07-31 12:43:09.022369: I tensorflow/core/grappler/optimizers/custom_graph_optimizer_registry.cc:117] Plugin optimizer for device_type GPU is enabled.\n"
     ]
    },
    {
     "name": "stdout",
     "output_type": "stream",
     "text": [
      "\u001B[1m395/395\u001B[0m \u001B[32m━━━━━━━━━━━━━━━━━━━━\u001B[0m\u001B[37m\u001B[0m \u001B[1m2s\u001B[0m 5ms/step\n"
     ]
    }
   ],
   "execution_count": 8
  },
  {
   "metadata": {},
   "cell_type": "markdown",
   "source": "## Confusion Matrix & Report",
   "id": "2878b28fb5bec83d"
  },
  {
   "metadata": {
    "ExecuteTime": {
     "end_time": "2025-07-31T09:43:35.776596Z",
     "start_time": "2025-07-31T09:43:35.305584Z"
    }
   },
   "cell_type": "code",
   "source": [
    "# Calculate predictions\n",
    "accuracy = accuracy_score(y_test, y_pred) * 100\n",
    "report = classification_report(y_test, y_pred)\n",
    "cm = confusion_matrix(y_test, y_pred)\n",
    "\n",
    "# 1. Print to console\n",
    "print(f\"Test Accuracy: {accuracy:.2f}%\")\n",
    "print(\"\\nClassification Report:\\n\")\n",
    "print(report)\n",
    "\n",
    "# 2. Save classification report to file\n",
    "report_path = docs_dir / \"classification_report.txt\"\n",
    "with open(report_path, \"w\") as f:\n",
    "    f.write(f\"Test Accuracy: {accuracy:.2f}%\\n\\n\")\n",
    "    f.write(\"Classification Report:\\n\")\n",
    "    f.write(report)\n",
    "\n",
    "print(f\"Classification report saved to: {'/'.join(report_path.parts[-3:])}\")\n",
    "\n",
    "# 3. Save confusion matrix plot\n",
    "plt.figure(figsize=(12, 10))\n",
    "sns.heatmap(cm, annot=False, cmap=\"Blues\", fmt=\"d\")\n",
    "plt.title(\"Confusion Matrix\")\n",
    "plt.xlabel(\"Predicted\")\n",
    "plt.ylabel(\"Actual\")\n",
    "plt.tight_layout()\n",
    "plt.savefig(figures_dir / \"confusion_matrix.png\", dpi=300)\n",
    "plt.show()"
   ],
   "id": "2d98a326968d4309",
   "outputs": [
    {
     "name": "stdout",
     "output_type": "stream",
     "text": [
      "Test Accuracy: 96.23%\n",
      "\n",
      "Classification Report:\n",
      "\n",
      "              precision    recall  f1-score   support\n",
      "\n",
      "           0       0.98      1.00      0.99        60\n",
      "           1       0.98      0.99      0.98       720\n",
      "           2       0.97      0.99      0.98       750\n",
      "           3       0.96      0.95      0.95       450\n",
      "           4       0.99      0.98      0.99       660\n",
      "           5       0.89      0.94      0.92       629\n",
      "           6       0.99      0.85      0.91       150\n",
      "           7       1.00      0.93      0.96       450\n",
      "           8       0.97      0.93      0.95       450\n",
      "           9       0.96      1.00      0.98       480\n",
      "          10       0.98      0.98      0.98       660\n",
      "          11       0.99      0.95      0.97       420\n",
      "          12       1.00      0.96      0.98       690\n",
      "          13       1.00      0.98      0.99       720\n",
      "          14       1.00      1.00      1.00       270\n",
      "          15       0.94      1.00      0.97       210\n",
      "          16       0.99      0.99      0.99       150\n",
      "          17       1.00      1.00      1.00       360\n",
      "          18       0.93      0.95      0.94       390\n",
      "          19       1.00      1.00      1.00        60\n",
      "          20       0.81      0.97      0.88        90\n",
      "          21       0.94      1.00      0.97        90\n",
      "          22       0.99      0.87      0.92       120\n",
      "          23       0.68      1.00      0.81       150\n",
      "          24       1.00      0.81      0.90        90\n",
      "          25       0.94      0.97      0.95       480\n",
      "          26       0.96      0.87      0.91       180\n",
      "          27       0.64      0.50      0.56        60\n",
      "          28       0.94      0.99      0.96       150\n",
      "          29       0.99      0.98      0.98        90\n",
      "          30       0.91      0.75      0.82       150\n",
      "          31       0.97      0.95      0.96       270\n",
      "          32       1.00      1.00      1.00        60\n",
      "          33       1.00      1.00      1.00       210\n",
      "          34       0.94      0.99      0.97       120\n",
      "          35       0.98      1.00      0.99       390\n",
      "          36       0.99      1.00      1.00       120\n",
      "          37       0.98      1.00      0.99        60\n",
      "          38       1.00      0.97      0.99       690\n",
      "          39       1.00      0.97      0.98        90\n",
      "          40       0.66      0.96      0.78        90\n",
      "          41       1.00      0.68      0.81        60\n",
      "          42       1.00      0.99      0.99        90\n",
      "\n",
      "    accuracy                           0.96     12629\n",
      "   macro avg       0.95      0.94      0.94     12629\n",
      "weighted avg       0.97      0.96      0.96     12629\n",
      "\n",
      "Classification report saved to: outputs/docs/classification_report.txt\n"
     ]
    },
    {
     "data": {
      "text/plain": [
       "<Figure size 1200x1000 with 2 Axes>"
      ],
      "image/png": "[encoded data removed]"
     },
     "metadata": {},
     "output_type": "display_data"
    }
   ],
   "execution_count": 10
  }
 ],
 "metadata": {
  "kernelspec": {
   "display_name": "Python 3",
   "language": "python",
   "name": "python3"
  },
  "language_info": {
   "codemirror_mode": {
    "name": "ipython",
    "version": 2
   },
   "file_extension": ".py",
   "mimetype": "text/x-python",
   "name": "python",
   "nbconvert_exporter": "python",
   "pygments_lexer": "ipython2",
   "version": "2.7.6"
  }
 },
 "nbformat": 4,
 "nbformat_minor": 5
}

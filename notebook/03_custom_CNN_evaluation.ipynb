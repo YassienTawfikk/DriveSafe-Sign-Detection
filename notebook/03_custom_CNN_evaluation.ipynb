{
 "cells": [
  {
   "metadata": {},
   "cell_type": "markdown",
   "source": "# Model Evaluation",
   "id": "1ec5a67ba9c9d463"
  },
  {
   "metadata": {},
   "cell_type": "markdown",
   "source": "## Import Libraries",
   "id": "d0b11cd8ba82fffc"
  },
  {
   "metadata": {
    "ExecuteTime": {
     "end_time": "2025-07-31T07:39:31.703167Z",
     "start_time": "2025-07-31T07:39:31.699735Z"
    }
   },
   "cell_type": "code",
   "source": [
    "from tensorflow.keras.models import load_model\n",
    "import pandas as pd\n",
    "from PIL import Image\n",
    "import numpy as np\n",
    "import cv2\n",
    "\n",
    "from src import outputs_dir\n",
    "from src.paths import model_dir, data_dir, outputs_dir\n",
    "\n",
    "figures_dir = outputs_dir / \"figures\"\n"
   ],
   "id": "12a5f04c8fd5af70",
   "outputs": [],
   "execution_count": 20
  },
  {
   "metadata": {},
   "cell_type": "markdown",
   "source": "## Load Model",
   "id": "e4d23838064af589"
  },
  {
   "cell_type": "code",
   "id": "initial_id",
   "metadata": {
    "collapsed": true,
    "ExecuteTime": {
     "end_time": "2025-07-31T07:29:01.629981Z",
     "start_time": "2025-07-31T07:29:01.513283Z"
    }
   },
   "source": "model = load_model(model_dir / \"custom_traffic_classifier.h5\")",
   "outputs": [
    {
     "name": "stderr",
     "output_type": "stream",
     "text": [
      "WARNING:absl:Compiled the loaded model, but the compiled metrics have yet to be built. `model.compile_metrics` will be empty until you train or evaluate the model.\n"
     ]
    }
   ],
   "execution_count": 7
  },
  {
   "metadata": {},
   "cell_type": "markdown",
   "source": "## Load and Prepare Datasets",
   "id": "cfa9670478016ee0"
  },
  {
   "metadata": {
    "ExecuteTime": {
     "end_time": "2025-07-31T07:29:05.390276Z",
     "start_time": "2025-07-31T07:29:05.364397Z"
    }
   },
   "cell_type": "code",
   "source": [
    "test_df = pd.read_csv(data_dir / \"Test.csv\")\n",
    "test_df.head()"
   ],
   "id": "db8c0a397d48854a",
   "outputs": [
    {
     "data": {
      "text/plain": [
       "   Width  Height  Roi.X1  Roi.Y1  Roi.X2  Roi.Y2  ClassId            Path\n",
       "0     53      54       6       5      48      49       16  Test/00000.png\n",
       "1     42      45       5       5      36      40        1  Test/00001.png\n",
       "2     48      52       6       6      43      47       38  Test/00002.png\n",
       "3     27      29       5       5      22      24       33  Test/00003.png\n",
       "4     60      57       5       5      55      52       11  Test/00004.png"
      ],
      "text/html": [
       "<div>\n",
       "<style scoped>\n",
       "    .dataframe tbody tr th:only-of-type {\n",
       "        vertical-align: middle;\n",
       "    }\n",
       "\n",
       "    .dataframe tbody tr th {\n",
       "        vertical-align: top;\n",
       "    }\n",
       "\n",
       "    .dataframe thead th {\n",
       "        text-align: right;\n",
       "    }\n",
       "</style>\n",
       "<table border=\"1\" class=\"dataframe\">\n",
       "  <thead>\n",
       "    <tr style=\"text-align: right;\">\n",
       "      <th></th>\n",
       "      <th>Width</th>\n",
       "      <th>Height</th>\n",
       "      <th>Roi.X1</th>\n",
       "      <th>Roi.Y1</th>\n",
       "      <th>Roi.X2</th>\n",
       "      <th>Roi.Y2</th>\n",
       "      <th>ClassId</th>\n",
       "      <th>Path</th>\n",
       "    </tr>\n",
       "  </thead>\n",
       "  <tbody>\n",
       "    <tr>\n",
       "      <th>0</th>\n",
       "      <td>53</td>\n",
       "      <td>54</td>\n",
       "      <td>6</td>\n",
       "      <td>5</td>\n",
       "      <td>48</td>\n",
       "      <td>49</td>\n",
       "      <td>16</td>\n",
       "      <td>Test/00000.png</td>\n",
       "    </tr>\n",
       "    <tr>\n",
       "      <th>1</th>\n",
       "      <td>42</td>\n",
       "      <td>45</td>\n",
       "      <td>5</td>\n",
       "      <td>5</td>\n",
       "      <td>36</td>\n",
       "      <td>40</td>\n",
       "      <td>1</td>\n",
       "      <td>Test/00001.png</td>\n",
       "    </tr>\n",
       "    <tr>\n",
       "      <th>2</th>\n",
       "      <td>48</td>\n",
       "      <td>52</td>\n",
       "      <td>6</td>\n",
       "      <td>6</td>\n",
       "      <td>43</td>\n",
       "      <td>47</td>\n",
       "      <td>38</td>\n",
       "      <td>Test/00002.png</td>\n",
       "    </tr>\n",
       "    <tr>\n",
       "      <th>3</th>\n",
       "      <td>27</td>\n",
       "      <td>29</td>\n",
       "      <td>5</td>\n",
       "      <td>5</td>\n",
       "      <td>22</td>\n",
       "      <td>24</td>\n",
       "      <td>33</td>\n",
       "      <td>Test/00003.png</td>\n",
       "    </tr>\n",
       "    <tr>\n",
       "      <th>4</th>\n",
       "      <td>60</td>\n",
       "      <td>57</td>\n",
       "      <td>5</td>\n",
       "      <td>5</td>\n",
       "      <td>55</td>\n",
       "      <td>52</td>\n",
       "      <td>11</td>\n",
       "      <td>Test/00004.png</td>\n",
       "    </tr>\n",
       "  </tbody>\n",
       "</table>\n",
       "</div>"
      ]
     },
     "execution_count": 8,
     "metadata": {},
     "output_type": "execute_result"
    }
   ],
   "execution_count": 8
  },
  {
   "metadata": {
    "ExecuteTime": {
     "end_time": "2025-07-31T07:35:36.172356Z",
     "start_time": "2025-07-31T07:35:34.366452Z"
    }
   },
   "cell_type": "code",
   "source": [
    "from PIL import Image\n",
    "import numpy as np\n",
    "\n",
    "test_images = []\n",
    "test_labels = []\n",
    "skipped_images = []\n",
    "\n",
    "for _, row in test_df.iterrows():\n",
    "    image_path = data_dir / row[\"Path\"]\n",
    "    try:\n",
    "        image = Image.open(image_path)\n",
    "        image = image.resize((30, 30))\n",
    "        test_images.append(np.array(image))\n",
    "        test_labels.append(row[\"ClassId\"])\n",
    "    except Exception as e:\n",
    "        skipped_images.append(image_path)\n",
    "        print(f\"Skipped corrupted image at {'/'.join(image_path.parts[-2:])}\")\n",
    "\n",
    "# Convert to NumPy arrays and normalize\n",
    "x_test = np.array(test_images).astype(\"float32\") / 255.0\n",
    "y_test = np.array(test_labels)"
   ],
   "id": "2cc039551090e0a9",
   "outputs": [
    {
     "name": "stdout",
     "output_type": "stream",
     "text": [
      "Skipped corrupted image at Test/00802.png\n"
     ]
    }
   ],
   "execution_count": 14
  },
  {
   "metadata": {},
   "cell_type": "markdown",
   "source": "## Predict Outputs",
   "id": "96ca9fc2141194ee"
  },
  {
   "metadata": {
    "ExecuteTime": {
     "end_time": "2025-07-31T07:36:14.899292Z",
     "start_time": "2025-07-31T07:36:12.145034Z"
    }
   },
   "cell_type": "code",
   "source": [
    "pred_probs = model.predict(x_test)\n",
    "y_pred = np.argmax(pred_probs, axis=1)"
   ],
   "id": "556e5d911cdc70ca",
   "outputs": [
    {
     "name": "stdout",
     "output_type": "stream",
     "text": [
      "\u001B[1m  1/395\u001B[0m \u001B[37m━━━━━━━━━━━━━━━━━━━━\u001B[0m \u001B[1m1:10\u001B[0m 180ms/step"
     ]
    },
    {
     "name": "stderr",
     "output_type": "stream",
     "text": [
      "2025-07-31 10:36:12.243910: I tensorflow/core/grappler/optimizers/custom_graph_optimizer_registry.cc:117] Plugin optimizer for device_type GPU is enabled.\n"
     ]
    },
    {
     "name": "stdout",
     "output_type": "stream",
     "text": [
      "\u001B[1m395/395\u001B[0m \u001B[32m━━━━━━━━━━━━━━━━━━━━\u001B[0m\u001B[37m\u001B[0m \u001B[1m3s\u001B[0m 6ms/step\n"
     ]
    }
   ],
   "execution_count": 15
  },
  {
   "metadata": {},
   "cell_type": "markdown",
   "source": "## Confusion Matrix & Report",
   "id": "2878b28fb5bec83d"
  },
  {
   "metadata": {
    "ExecuteTime": {
     "end_time": "2025-07-31T07:39:37.031277Z",
     "start_time": "2025-07-31T07:39:36.547792Z"
    }
   },
   "cell_type": "code",
   "source": [
    "from sklearn.metrics import classification_report, confusion_matrix, accuracy_score\n",
    "import seaborn as sns\n",
    "import matplotlib.pyplot as plt\n",
    "\n",
    "# Accuracy\n",
    "print(\"Test Accuracy:\", accuracy_score(y_test, y_pred))\n",
    "\n",
    "# Classification Report\n",
    "print(\"\\n Classification Report:\\n\")\n",
    "print(classification_report(y_test, y_pred))\n",
    "\n",
    "# Confusion Matrix\n",
    "cm = confusion_matrix(y_test, y_pred)\n",
    "plt.figure(figsize=(12, 10))\n",
    "sns.heatmap(cm, annot=False, cmap=\"Blues\", fmt=\"d\")\n",
    "plt.title(\"Confusion Matrix\")\n",
    "plt.xlabel(\"Predicted\")\n",
    "plt.ylabel(\"Actual\")\n",
    "plt.tight_layout()\n",
    "plt.savefig(figures_dir / \"confusion_matrix.png\", dpi=300)\n",
    "plt.show()"
   ],
   "id": "2d98a326968d4309",
   "outputs": [
    {
     "name": "stdout",
     "output_type": "stream",
     "text": [
      "Test Accuracy: 0.9363370021379365\n",
      "\n",
      " Classification Report:\n",
      "\n",
      "              precision    recall  f1-score   support\n",
      "\n",
      "           0       0.98      1.00      0.99        60\n",
      "           1       0.98      0.98      0.98       720\n",
      "           2       0.98      0.93      0.95       750\n",
      "           3       0.91      0.93      0.92       450\n",
      "           4       0.99      0.90      0.94       660\n",
      "           5       0.80      0.96      0.87       629\n",
      "           6       0.99      0.72      0.83       150\n",
      "           7       0.94      0.82      0.87       450\n",
      "           8       0.98      0.88      0.93       450\n",
      "           9       0.90      0.98      0.94       480\n",
      "          10       0.93      1.00      0.96       660\n",
      "          11       0.99      0.93      0.96       420\n",
      "          12       1.00      0.94      0.97       690\n",
      "          13       0.98      0.98      0.98       720\n",
      "          14       1.00      0.98      0.99       270\n",
      "          15       0.57      1.00      0.73       210\n",
      "          16       0.99      0.99      0.99       150\n",
      "          17       1.00      1.00      1.00       360\n",
      "          18       0.92      0.90      0.91       390\n",
      "          19       1.00      0.65      0.79        60\n",
      "          20       0.83      0.94      0.89        90\n",
      "          21       0.87      0.98      0.92        90\n",
      "          22       0.92      0.90      0.91       120\n",
      "          23       0.64      0.92      0.75       150\n",
      "          24       1.00      0.71      0.83        90\n",
      "          25       0.96      0.97      0.96       480\n",
      "          26       0.97      0.88      0.92       180\n",
      "          27       0.59      0.50      0.54        60\n",
      "          28       0.97      0.99      0.98       150\n",
      "          29       0.98      0.98      0.98        90\n",
      "          30       0.87      0.76      0.81       150\n",
      "          31       0.98      0.91      0.94       270\n",
      "          32       1.00      1.00      1.00        60\n",
      "          33       0.95      1.00      0.97       210\n",
      "          34       0.96      0.99      0.98       120\n",
      "          35       0.97      1.00      0.98       390\n",
      "          36       0.99      1.00      1.00       120\n",
      "          37       0.98      1.00      0.99        60\n",
      "          38       1.00      0.95      0.97       690\n",
      "          39       1.00      0.90      0.95        90\n",
      "          40       0.80      0.91      0.85        90\n",
      "          41       1.00      0.63      0.78        60\n",
      "          42       0.99      0.94      0.97        90\n",
      "\n",
      "    accuracy                           0.94     12629\n",
      "   macro avg       0.93      0.91      0.92     12629\n",
      "weighted avg       0.95      0.94      0.94     12629\n",
      "\n"
     ]
    },
    {
     "data": {
      "text/plain": [
       "<Figure size 1200x1000 with 2 Axes>"
      ],
      "image/png": "[encoded data removed]"
     },
     "metadata": {},
     "output_type": "display_data"
    }
   ],
   "execution_count": 21
  }
 ],
 "metadata": {
  "kernelspec": {
   "display_name": "Python 3",
   "language": "python",
   "name": "python3"
  },
  "language_info": {
   "codemirror_mode": {
    "name": "ipython",
    "version": 2
   },
   "file_extension": ".py",
   "mimetype": "text/x-python",
   "name": "python",
   "nbconvert_exporter": "python",
   "pygments_lexer": "ipython2",
   "version": "2.7.6"
  }
 },
 "nbformat": 4,
 "nbformat_minor": 5
}
